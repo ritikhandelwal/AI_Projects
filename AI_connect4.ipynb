{
 "cells": [
  {
   "cell_type": "markdown",
   "metadata": {
    "id": "hGXBRvSafiF4"
   },
   "source": [
    "Implement different versions of agents that play Connect 4:\n",
    "\n",
    "> \"Connect 4 is a two-player connection board game, in which the players choose a color and then take turns dropping colored discs into a seven-column, six-row vertically suspended grid. The pieces fall straight down, occupying the lowest available space within the column. The objective of the game is to be the first to form a horizontal, vertical, or diagonal line of four of one's own discs.\" (see [Connect Four on Wikipedia](https://en.wikipedia.org/wiki/Connect_Four))\n",
    "\n",
    "Note that [Connect-4 has been solved](https://en.wikipedia.org/wiki/Connect_Four#Mathematical_solution)\n",
    "in 1988. A connect-4 solver with a discussion of how to solve different parts of the problem can be found here: https://connect4.gamesolver.org/en/"
   ]
  },
  {
   "cell_type": "markdown",
   "metadata": {
    "id": "tLgeK8EjfiGC"
   },
   "source": [
    "## Task 1: Defining the Search Problem [10 point]\n",
    "\n",
    "Define the components of the search problem:\n",
    "\n",
    "* Initial state\n",
    "* Actions\n",
    "* Transition model (result function)\n",
    "* Goal state (terminal state and utility)"
   ]
  },
  {
   "cell_type": "markdown",
   "metadata": {
    "id": "KK1Hc9LKuCHW"
   },
   "source": [
    "\n",
    "\n",
    "#####Initial State: The initial state represents a empty board where no player has made any moves. It is the time before starting the game.\n",
    "\n",
    "#####Actions: The action in connect 4 is the player to choose one of the seven columns and insert a colored disc into it. Every operation has an associated integer, ranging from 0 to 6, that indicates the column in which the disc is to be dropped.\n",
    "\n",
    "#####Transition Model (Result Function): It describes how the status of the game changes constantly depending on the choices made. By adding the disc to the player-selected column, the function will update the state and advance the game to the next state.\n",
    "\n",
    "#####Goal State:The goal state is the point at which either all players win or all players draw in the game. Forming a line of four in any direction—vertical, horizontal, or diagonal—wins for the player. Additionally, the utility is assigned upon reaching the terminal condition."
   ]
  },
  {
   "cell_type": "markdown",
   "metadata": {
    "id": "JCHHiQFhfiGH"
   },
   "source": [
    "How big is the state space? Give an estimate and explain it."
   ]
  },
  {
   "cell_type": "markdown",
   "metadata": {
    "id": "aqedP4ZcOasi"
   },
   "source": [
    "In connect game, we have three possibility for every circle i.e. (empty, yellow, or red) on a 6*7 grid, so the estimated state space size is 3 ^42."
   ]
  },
  {
   "cell_type": "markdown",
   "metadata": {
    "id": "tUNsZAJEfiGK"
   },
   "source": [
    "How big is the game tree that minimax search will go through? Give an estimate and explain it."
   ]
  },
  {
   "cell_type": "code",
   "execution_count": null,
   "metadata": {
    "id": "3Lr_pL98fiGN"
   },
   "outputs": [],
   "source": [
    " Minimax needs to search is that it consider a branching factor of 7, depth of 6 moves ahead, 7^6 nodes(approximately)"
   ]
  },
  {
   "cell_type": "markdown",
   "metadata": {
    "id": "o8ZI_eoPfiGQ"
   },
   "source": [
    "## Task 2: Game Environment and Random Agent [25 point]\n",
    "\n",
    "Use a numpy character array as the board."
   ]
  },
  {
   "cell_type": "code",
   "execution_count": null,
   "metadata": {
    "colab": {
     "base_uri": "https://localhost:8080/"
    },
    "id": "3KjgiTzhfiGS",
    "outputId": "0a98de39-66cb-41bd-9145-6a5d4f1c3b05"
   },
   "outputs": [
    {
     "name": "stdout",
     "output_type": "stream",
     "text": [
      "[[0 0 0 0 0 0 0]\n",
      " [0 0 0 0 0 0 0]\n",
      " [0 0 0 0 0 0 0]\n",
      " [0 0 0 0 0 0 0]\n",
      " [0 0 0 0 0 0 0]\n",
      " [0 0 0 0 0 0 0]]\n"
     ]
    }
   ],
   "source": [
    "import numpy as np\n",
    "\n",
    "def empty_board(shape=(6, 7)):\n",
    "    return np.full(shape=shape, fill_value=0)\n",
    "\n",
    "print(empty_board())"
   ]
  },
  {
   "cell_type": "markdown",
   "metadata": {
    "id": "wt4wq81BfiGa"
   },
   "source": [
    "The standard board is $6 \\times 7$ but you can use smaller boards to test your code. Instead of colors (red and yellow), I use 1 and -1 to represent the players. Make sure that your agent functions all have the from: `agent_type(board, player = 1)`, where board is the current board position (in the format above) and player is the player whose next move it is and who the agent should play (as 1 and -1)."
   ]
  },
  {
   "cell_type": "code",
   "execution_count": null,
   "metadata": {
    "colab": {
     "base_uri": "https://localhost:8080/",
     "height": 430
    },
    "id": "t_L5J8TmfiGc",
    "outputId": "d2c52c8e-9725-4ec1-8edf-7a98903eb283",
    "tags": []
   },
   "outputs": [
    {
     "data": {
      "image/png": "[encoded data removed]",
      "text/plain": [
       "<Figure size 640x480 with 1 Axes>"
      ]
     },
     "metadata": {},
     "output_type": "display_data"
    }
   ],
   "source": [
    "# Visualization code by Randolph Rankin\n",
    "\n",
    "import matplotlib.pyplot as plt\n",
    "\n",
    "def visualize(board):\n",
    "    plt.axes()\n",
    "    rectangle=plt.Rectangle((-0.5,len(board)*-1+0.5),len(board[0]),len(board),fc='blue')\n",
    "    circles=[]\n",
    "    for i,row in enumerate(board):\n",
    "        for j,val in enumerate(row):\n",
    "            color='white' if val==0 else 'red' if val==1 else 'yellow'\n",
    "            circles.append(plt.Circle((j,i*-1),0.4,fc=color))\n",
    "\n",
    "    plt.gca().add_patch(rectangle)\n",
    "    for circle in circles:\n",
    "        plt.gca().add_patch(circle)\n",
    "\n",
    "    plt.axis('scaled')\n",
    "    plt.show()\n",
    "\n",
    "board = [[0, 0, 0, 0, 0, 0, 0],\n",
    "         [0, 0, 0, 0, 0, 0, 0],\n",
    "         [0, 0, 0, 0, 0, 0, 0],\n",
    "         [0, 0, 0, 1, 0, 0, 0],\n",
    "         [0, 0, 0, 1, 0, 0, 0],\n",
    "         [0,-1,-1, 1,-1, 0, 0]]\n",
    "visualize(board)"
   ]
  },
  {
   "cell_type": "markdown",
   "metadata": {
    "id": "KP54OJn3fiG0",
    "tags": []
   },
   "source": [
    "Implement helper functions for:\n",
    "\n",
    "* A check for available actions in each state `actions(s)`.\n",
    "* The transition model `result(s, a)`.\n",
    "* Check for terminal states `terminal(s)`.\n",
    "* The utility function `utility(s)`.\n",
    "\n",
    "Make sure that all these functions work with boards of different sizes (number of columns and rows)."
   ]
  },
  {
   "cell_type": "code",
   "execution_count": null,
   "metadata": {
    "id": "5bUCyDExfiG1"
   },
   "outputs": [],
   "source": [
    "import numpy as np\n",
    "\n",
    "def available_actions(board):\n",
    "\n",
    "    return [column for column, col_data in enumerate(board.T) if 0 in col_data]\n",
    "\n",
    "\n",
    "def result(board, column, player):\n",
    "    new_b = [row[:] for row in board]  # Create a deep copy of the board\n",
    "    row = len(new_b) - 1\n",
    "    while row >= 0:\n",
    "        if new_b[row][column] == 0:\n",
    "            new_b[row][column] = player\n",
    "            break\n",
    "        row -= 1\n",
    "    return new_b\n",
    "\n",
    "\n",
    "def terminal(board, n):\n",
    "\n",
    "    for player in [-1, 1]:\n",
    "        for r in range(board.shape[0]):\n",
    "            for c in range(board.shape[1]):\n",
    "                # Check horizontally\n",
    "                for i in range(n):\n",
    "                    if c + i >= board.shape[1] or board[r][c + i] != player:\n",
    "                        break\n",
    "                else:\n",
    "                    return True\n",
    "                # Check vertically\n",
    "                for i in range(n):\n",
    "                    if r + i >= board.shape[0] or board[r + i][c] != player:\n",
    "                        break\n",
    "                else:\n",
    "                    return True\n",
    "                # Check diagonally (top-left to bottom-right)\n",
    "                for i in range(n):\n",
    "                    if r + i >= board.shape[0] or c + i >= board.shape[1] or board[r + i][c + i] != player:\n",
    "                        break\n",
    "                else:\n",
    "                    return True\n",
    "                # Check diagonally (top-right to bottom-left)\n",
    "                for i in range(n):\n",
    "                    if r + i >= board.shape[0] or c - i < 0 or board[r + i][c - i] != player:\n",
    "                        break\n",
    "                else:\n",
    "                    return True\n",
    "    return False\n",
    "\n",
    "\n",
    "\n",
    "def utility(board, player, n):\n",
    "\n",
    "    if not terminal(board, n):\n",
    "        return None\n",
    "    for row in range(board.shape[0]):\n",
    "        for col in range(board.shape[1]):\n",
    "            # Check horizontally\n",
    "            for i in range(n):\n",
    "                if col + i >= board.shape[1] or board[row][col + i] != player:\n",
    "                    break\n",
    "            else:\n",
    "                return 1 if player == 1 else -1\n",
    "            # Check vertically\n",
    "            for i in range(n):\n",
    "                if row + i >= board.shape[0] or board[row + i][col] != player:\n",
    "                    break\n",
    "            else:\n",
    "                return 1 if player == 1 else -1\n",
    "            # Check diagonally (top-left to bottom-right)\n",
    "            for i in range(n):\n",
    "                if row + i >= board.shape[0] or col + i >= board.shape[1] or board[row + i][col + i] != player:\n",
    "                    break\n",
    "            else:\n",
    "                return 1 if player == 1 else -1\n",
    "            # Check diagonally (top-right to bottom-left)\n",
    "            for i in range(n):\n",
    "                if row + i >= board.shape[0] or col - i < 0 or board[row + i][col - i] != player:\n",
    "                    break\n",
    "            else:\n",
    "                return 1 if player == 1 else -1\n",
    "    return 0\n",
    "\n"
   ]
  },
  {
   "cell_type": "markdown",
   "metadata": {
    "id": "DQ1IS_kefiG3"
   },
   "source": [
    "Implement an agent that plays randomly. Make sure the agent function receives as the percept the board and returns a valid action. Use an agent function definition with the following signature (arguments):\n",
    "\n",
    "`def random_player(board, player = 1): ...`\n",
    "\n",
    "The argument `player` is used for agents that do not store what color they are playing. The value passed on by the environment should be 1 ot -1 for player red and yellow, respectively.  See [Experiments section for tic-tac-toe](https://nbviewer.org/github/mhahsler/CS7320-AI/blob/master/Games/tictactoe_and_or_tree_search.ipynb#Experiments) for an example."
   ]
  },
  {
   "cell_type": "code",
   "execution_count": null,
   "metadata": {
    "colab": {
     "base_uri": "https://localhost:8080/"
    },
    "id": "6RgVI8NTfiG4",
    "outputId": "0fca60d8-3362-4702-b8c0-b1816f1e5c5d"
   },
   "outputs": [
    {
     "name": "stdout",
     "output_type": "stream",
     "text": [
      "Randomly selected action: 5\n"
     ]
    }
   ],
   "source": [
    "# Your code/ answer goes here.\n",
    "\n",
    "def random(board, player=1):\n",
    "    actions = available_actions(board)\n",
    "    return np.random.choice(actions)\n",
    "\n",
    "# Example usage:\n",
    "board = np.zeros((6, 7))\n",
    "print(\"Randomly selected action:\", random(board))"
   ]
  },
  {
   "cell_type": "markdown",
   "metadata": {
    "id": "hbaEO07HfiG4"
   },
   "source": [
    "Let two random agents play against each other 1000 times. Look at the [Experiments section for tic-tac-toe](https://nbviewer.org/github/mhahsler/CS7320-AI/blob/master/Games/tictactoe_and_or_tree_search.ipynb#Experiments) to see how the environment uses the agent functions to play against each other.\n",
    "\n",
    "How often does each player win? Is the result expected?"
   ]
  },
  {
   "cell_type": "code",
   "execution_count": null,
   "metadata": {
    "colab": {
     "base_uri": "https://localhost:8080/"
    },
    "id": "likmEhDbfiG5",
    "outputId": "8b6455b6-5c48-4178-daec-87d3c45f4394",
    "tags": []
   },
   "outputs": [
    {
     "name": "stdout",
     "output_type": "stream",
     "text": [
      "Results after 1000 games:\n",
      "Player 1 wins: 522\n",
      "Player -1 wins: 476\n",
      "Draws: 2\n"
     ]
    }
   ],
   "source": [
    "def c_winner(board, n):\n",
    "    # Check rows\n",
    "    for p in range(board.shape[0]):\n",
    "        for q in range(board.shape[1] - n + 1):\n",
    "            if all(board[p, q + r] == board[p, q] for r in range(1, n)):\n",
    "                return board[p, q]\n",
    "    # Check columns\n",
    "\n",
    "    for p in range(board.shape[0] - n + 1):\n",
    "        for q in range(board.shape[1]):\n",
    "            if all(board[p + r, q] == board[p, q] for r in range(1, n)):\n",
    "                return board[p, q]\n",
    "\n",
    "    for p in range(board.shape[0] - n + 1):\n",
    "        for q in range(board.shape[1] - n + 1):\n",
    "            if all(board[p + r, q + r] == board[p, q] for r in range(1, n)):\n",
    "                return board[p, q]\n",
    "    # Check diagonals\n",
    "    for p in range(board.shape[0] - n + 1):\n",
    "        for q in range(n - 1, board.shape[1]):\n",
    "            if all(board[p + r, q - r] == board[p, q] for r in range(1, n)):\n",
    "                return board[p, q]\n",
    "    return 0\n",
    "\n",
    "\n",
    "def play_game():\n",
    "    board = np.zeros((6, 7))\n",
    "    current_player = 1\n",
    "    while True:\n",
    "        ac = random(board, current_player)\n",
    "        board = result(board, ac, current_player)\n",
    "        win = c_winner(board,n)\n",
    "        if win != 0:\n",
    "            return win\n",
    "        if len(available_actions(board)) == 0:\n",
    "            return 0  # Draw\n",
    "        current_player *= -1  # Switch player\n",
    "\n",
    "# Simulate 1000 games\n",
    "results = {1: 0, -1: 0, 0: 0}  # Stores counts of wins for player 1, player -1, and draws\n",
    "for _ in range(1000):\n",
    "    winner = play_game()\n",
    "    results[winner] += 1\n",
    "\n",
    "print(\"Results after 1000 games:\")\n",
    "print(\"Player 1 wins:\", results[1])\n",
    "print(\"Player -1 wins:\", results[-1])\n",
    "print(\"Draws:\", results[0])"
   ]
  },
  {
   "cell_type": "markdown",
   "metadata": {
    "id": "zY3BEeI5fiG8"
   },
   "source": [
    "## Task 3: Minimax Search with Alpha-Beta Pruning\n",
    "\n",
    "### Implement the Search [20 points]\n",
    "\n",
    "Implement minimax search starting from a given board for specifying the player.\n",
    "You can use code from the [tic-tac-toe example](https://nbviewer.org/github/mhahsler/CS7320-AI/blob/master/Games/tictactoe_alpha_beta_tree_search.ipynb).\n",
    "\n",
    "__Important Notes:__\n",
    "* Make sure that all your agent functions have a signature consistent with the random agent above and that it [uses a class to store state information.](https://nbviewer.org/github/mhahsler/CS7320-AI/blob/master/HOWTOs/store_agent_state_information.ipynb)\n",
    "This is essential to be able play against agents from other students later.\n",
    "* The search space for a $6 \\times 7$ board is large. You can experiment with smaller boards (the smallest is $4 \\times 4$) and/or changing the winning rule to connect 3 instead of 4."
   ]
  },
  {
   "cell_type": "code",
   "execution_count": null,
   "metadata": {
    "colab": {
     "base_uri": "https://localhost:8080/"
    },
    "id": "co6GR3RZMAD9",
    "outputId": "db4e202c-947d-472e-e922-861d10622451"
   },
   "outputs": [
    {
     "name": "stdout",
     "output_type": "stream",
     "text": [
      "Best move for player 1 is column 0\n"
     ]
    }
   ],
   "source": [
    "import numpy as np\n",
    "\n",
    "class Connect4_Minimaxagent:\n",
    "    def __init__(self, player, f_action, f_result, f_terminal, f_utility):\n",
    "        self.player = player\n",
    "        self.f_action = f_action\n",
    "        self.f_result = f_result\n",
    "        self.f_terminal = f_terminal\n",
    "        self.f_utility = f_utility\n",
    "\n",
    "    def minimax_alpha_beta(self, board, player):\n",
    "        depth = 10  # You can set your desired depth here\n",
    "        alpha = float('-inf')\n",
    "        beta = float('inf')\n",
    "        max_player = player == self.player\n",
    "\n",
    "        def helper(board, player, depth, alpha, beta):\n",
    "            if depth == 0 or self.terminal_func(board,n):\n",
    "                return self.utility_func(board, player,n) if self.utility_func(board, player,n) is not None else 0\n",
    "\n",
    "            v_actions = self.actions_func(board)\n",
    "            if max_player:\n",
    "                max = float('-inf')\n",
    "                for act in v_actions:\n",
    "                    new_board = self.result_func(board, player, action)\n",
    "                    ev = helper(new_board, player, depth - 1, alpha, beta)\n",
    "                    max = max(max, ev)\n",
    "                    alpha = max(alpha, max)\n",
    "                    if alpha >= beta:\n",
    "                        break\n",
    "                return max\n",
    "            else:\n",
    "                min = float('inf')\n",
    "                for action in v_actions:\n",
    "                    new_board = self.result_func(board, -player, action)\n",
    "                    ev = helper(new_board, player, depth - 1, alpha, beta)\n",
    "                    min = min(min, ev)\n",
    "                    beta = min(beta, min)\n",
    "                    if alpha >= beta:\n",
    "                        break\n",
    "                return min\n",
    "\n",
    "        return helper(board, player, depth, alpha, beta)\n",
    "\n",
    "\n",
    "\n",
    "    def find_best_move(self, board):\n",
    "      valid_actions = self.actions_func(board)\n",
    "      best_move = None\n",
    "      best_score = float('-inf') if self.player == 1 else float('inf')\n",
    "\n",
    "      for action in valid_actions:\n",
    "        new_board = self.result_func(board, self.player, action)\n",
    "        eval = self.minimax_alpha_beta(new_board, self.player)\n",
    "\n",
    "        if (self.player == 1 and eval > best_score) or (self.player == -1 and eval < best_score):\n",
    "            best_score = eval\n",
    "            best_move = action\n",
    "\n",
    "      return best_move\n",
    "\n",
    "\n",
    "\n",
    "initial_board = np.zeros((4, 4), dtype=int)\n",
    "\n",
    "player_turn = 1\n",
    "\n",
    "connect4_agent = Connect4_Minimaxagent(\n",
    "    player_turn, f_actions=available_actions, f_result=result,\n",
    "    f_terminal=terminal, f_utility=utility\n",
    ")\n",
    "# Find the best move for the player using minimax with alpha-beta pruning\n",
    "best_move = connect4_agent.find_best_move(initial_board)\n",
    "print(\"Best move for player\", player_turn, \"is the column\", best_move)\n"
   ]
  },
  {
   "cell_type": "markdown",
   "metadata": {
    "id": "OZawTtLxfiHB"
   },
   "source": [
    "Experiment with some manually created boards (at least 5) to check if the agent spots winning opportunities."
   ]
  },
  {
   "cell_type": "code",
   "execution_count": null,
   "metadata": {
    "id": "LApZ3IpHfiHC"
   },
   "outputs": [],
   "source": [
    "# Example boards for a 4x4 grid\n",
    "boards_4x4 = [\n",
    "    np.array([[0, 0, 0, 0],\n",
    "              [0, 0, 0, 0],\n",
    "              [0, 0, 0, 0],\n",
    "              [0, 0, 0, 0]]),\n",
    "\n",
    "    np.array([[0, 0, 0, 0],\n",
    "              [0, 0, 0, 0],\n",
    "              [0, 0, 0, 0],\n",
    "              [0, 0, 1, 1]]),\n",
    "\n",
    "    np.array([[0, 0, 0, 0],\n",
    "              [0, 0, 0, 0],\n",
    "              [0, 0, 0, 0],\n",
    "              [0, 1, 0, 1]]),\n",
    "\n",
    "    np.array([[0, 0, 0, 0],\n",
    "              [-1, 0, 1, 1],\n",
    "              [-1, 1, 1, 1],\n",
    "              [1, 1, -1, -1]]),\n",
    "\n",
    "    np.array([[0, 0, 0, 0],\n",
    "              [0, 0, 0, 0],\n",
    "              [0, 0, 0, 0],\n",
    "              [0, 0, 1, 0]])\n",
    "]\n",
    "\n",
    "# Test agent on 4x4 example boards\n",
    "for i, board in enumerate(boards_4x4):\n",
    "    print(f\"Board {i+1}:\")\n",
    "    print(board)\n",
    "    best_move = connect4_agent.find_move(board, depth = 10, n=4)\n",
    "    print(f\"Best move for player 1: Column {best_move}\")\n",
    "\n",
    "    final_board = connect4_agent.f_result(board, player=1, available_actions=best_move)\n",
    "    # visualize(final_board)\n",
    "    # print(\"\")"
   ]
  },
  {
   "cell_type": "markdown",
   "metadata": {
    "id": "nu0FPMPCfiHR"
   },
   "source": [
    "How long does it take to make a move? Start with a smaller board with 4 columns and make the board larger by adding columns."
   ]
  },
  {
   "cell_type": "code",
   "execution_count": null,
   "metadata": {
    "colab": {
     "base_uri": "https://localhost:8080/"
    },
    "id": "EMBVR48YfiHT",
    "outputId": "367552b4-e912-49e8-ed38-e3e81ba2eb29"
   },
   "outputs": [
    {
     "name": "stdout",
     "output_type": "stream",
     "text": [
      "For board size 4x4 (4x4), time taken: 2.690155 seconds\n",
      "For board size 4x5 (4x5), time taken: 5.979922 seconds\n",
      "For board size 4x6 (4x6), time taken: 25.162799 seconds\n",
      "For board size 4x7 (4x7), time taken: 53.314796 seconds\n"
     ]
    }
   ],
   "source": [
    "# Your code/ answer goes here.\n",
    "\n",
    "import numpy as np\n",
    "import time\n",
    "\n",
    "\n",
    "initial_board_size = (4, 4)  # Initial board size with 4 columns\n",
    "\n",
    "\n",
    "for num_columns in range(4, 8):\n",
    "\n",
    "    initial_board = np.zeros((initial_board_size[0], num_columns), dtype=int)\n",
    "\n",
    "\n",
    "    start_time = time.time()\n",
    "    best_move = connect4_agent.find_move(initial_board, depth=10, n=num_columns)\n",
    "    end_time = time.time()\n",
    "\n",
    "    time_taken = end_time - start_time\n",
    "\n",
    "    # Print the result\n",
    "    print(f\"For board size {initial_board.shape[0]}x{initial_board.shape[1]} (4x{num_columns}), time taken: {time_taken:.6f} seconds\")\n"
   ]
  },
  {
   "cell_type": "markdown",
   "metadata": {
    "id": "qzn7mFivfiHT"
   },
   "source": [
    "### Move ordering [5 points]\n",
    "\n",
    "Starting the search with better moves will increase the efficiency of alpha-beta pruning. Describe and implement a simple move ordering strategy. Make a table that shows how the ordering strategies influence the time it takes to make a move?"
   ]
  },
  {
   "cell_type": "code",
   "execution_count": null,
   "metadata": {
    "id": "1oD9MtA_fiHU"
   },
   "outputs": [],
   "source": [
    "def evaluate_move(self, board, action):\n",
    "    # Check if the move results in an immediate win\n",
    "    new_board = self.f_result(board, self.player, action)\n",
    "    if self.f_terminal(new_board, n):\n",
    "        return float('inf') if self.player == 1 else float('-inf')\n",
    "\n",
    "    # Check if the move blocks opponent's immediate win\n",
    "    opponent = -self.player\n",
    "    new_board = self.f_result(board, opponent, action)\n",
    "    if self.f_terminal(new_board, n):\n",
    "        return float('-inf') if self.player == 1 else float('inf')\n",
    "\n",
    "    ev_scr = 0\n",
    "    for r in range(len(board)):\n",
    "        for c in range(len(board[0])):\n",
    "            if board[r][c] == self.player:\n",
    "                # Check rows\n",
    "                if c <= len(board[0]) - n:\n",
    "                    if all(board[r][c + k] == self.player for k in range(n)):\n",
    "                        ev_scr += 1\n",
    "                # Check columns\n",
    "                if r <= len(board) - n:\n",
    "                    if all(board[r+ k][c] == self.player for k in range(n)):\n",
    "                        ev_scr += 1\n",
    "                # Check diagonals (top-left to bottom-right)\n",
    "                if r <= len(board) - n and c <= len(board[0]) - n:\n",
    "                    if all(board[r + k][c + k] == self.player for k in range(n)):\n",
    "                        ev_scr += 1\n",
    "                # Check diagonals (top-right to bottom-left)\n",
    "                if r <= len(board) - n and c >= n - 1:\n",
    "                    if all(board[r + k][c - k] == self.player for k in range(n)):\n",
    "                        ev_scr += 1\n",
    "\n",
    "    return ev_scr\n"
   ]
  },
  {
   "cell_type": "code",
   "execution_count": null,
   "metadata": {
    "id": "5hjW5K6xGklq"
   },
   "outputs": [],
   "source": [
    "# Define move ordering strategies\n",
    "def evaluate_move_random(board, action):\n",
    "    return np.random.rand()\n",
    "\n",
    "def evaluate_move_prioritize_winning(board, action):\n",
    "    new_board = result(board, 1, action)\n",
    "    if terminal(new_board, n):\n",
    "        return float('inf')\n",
    "    else:\n",
    "        return 0\n",
    "\n",
    "def evaluate_move_prioritize_blocking(board, action):\n",
    "    new_board = result(board, -1, action)\n",
    "    if terminal(new_board, n):\n",
    "        return float('-inf')\n",
    "    else:\n",
    "        return 0\n",
    "\n",
    "def evaluate_move_prioritize_pieces(board, action):\n",
    "    evaluation_score = 0\n",
    "    # Calculate evaluation score based on pieces in row/column/diagonal\n",
    "    return evaluation_score\n",
    "\n",
    "# Measure time for a move with a specific ordering strategy\n",
    "def measure_time_for_move(board_size, depth, evaluate_move_func, n):\n",
    "    initial_board = np.zeros(board_size, dtype=int)\n",
    "    connect4_ag = Connect4_Minimaxagent(player_turn, available_actions, result, terminal, utility)\n",
    "    st = time.time()\n",
    "    best_move = connect4_ag.find_best_move(initial_board, depth, n)\n",
    "    et = time.time()\n",
    "    return et-st\n",
    "\n",
    "# Define board sizes, depths of search, and ordering strategies\n",
    "board_sizes = [(4, 4), (4, 5), (5, 5)]\n",
    "depths = [4, 6, 8]\n",
    "ordering_strategies = {\n",
    "    \"Random\": evaluate_move_random,\n",
    "    \"Prioritize Winning Moves\": evaluate_move_prioritize_winning,\n",
    "    \"Prioritize Blocking Moves\": evaluate_move_prioritize_blocking,\n",
    "    \"Prioritize Pieces\": evaluate_move_prioritize_pieces\n",
    "}\n",
    "\n",
    "# Perform experiments\n",
    "# results = {}\n",
    "# n = 4\n",
    "# for board_size in board_sizes:\n",
    "#     for depth in depths:\n",
    "#         for strategy_name, strategy_func in ordering_strategies.items():\n",
    "#             time_taken = measure_time_for_move(board_size, depth, strategy_func, n)\n",
    "#             results[(board_size, depth, strategy_name)] = time_taken\n",
    "\n",
    "# # Print results\n",
    "# print(\"Results:\")\n",
    "# for params, time_taken in results.items():\n",
    "#     print(f\"Board Size: {params[0]}, Depth: {params[1]}, Strategy: {params[2]}, Time Taken: {time_taken:.6f} seconds\")\n",
    "\n",
    "\n",
    "results_data = []\n",
    "n=4\n",
    "for board_size in board_sizes:\n",
    "    for depth in depths:\n",
    "        for strategy_name, strategy_func in ordering_strategies.items():\n",
    "            time_taken = measure_time_for_move(board_size, depth, strategy_func, n)\n",
    "            results_data.append((board_size, depth, strategy_name, time_taken))\n",
    "\n",
    "# Create a DataFrame from the results data\n",
    "results_df = pd.DataFrame(results_data, columns=['Board Size', 'Depth', 'Strategy', 'Time Taken'])\n",
    "\n",
    "# Display the DataFrame\n",
    "print(results_df)"
   ]
  },
  {
   "cell_type": "code",
   "execution_count": null,
   "metadata": {
    "colab": {
     "base_uri": "https://localhost:8080/",
     "height": 1000
    },
    "id": "toKumkxGIC5m",
    "outputId": "603ab36a-d671-41c1-edbc-4a84b9404f4e"
   },
   "outputs": [
    {
     "data": {
      "application/vnd.google.colaboratory.intrinsic+json": {
       "summary": "{\n  \"name\": \"results_df\",\n  \"rows\": 36,\n  \"fields\": [\n    {\n      \"column\": \"Board Size\",\n      \"properties\": {\n        \"dtype\": \"category\",\n        \"num_unique_values\": 3,\n        \"samples\": [\n          [\n            4,\n            4\n          ],\n          [\n            4,\n            5\n          ],\n          [\n            5,\n            5\n          ]\n        ],\n        \"semantic_type\": \"\",\n        \"description\": \"\"\n      }\n    },\n    {\n      \"column\": \"Depth\",\n      \"properties\": {\n        \"dtype\": \"number\",\n        \"std\": 1,\n        \"min\": 4,\n        \"max\": 8,\n        \"num_unique_values\": 3,\n        \"samples\": [\n          4,\n          6,\n          8\n        ],\n        \"semantic_type\": \"\",\n        \"description\": \"\"\n      }\n    },\n    {\n      \"column\": \"Strategy\",\n      \"properties\": {\n        \"dtype\": \"category\",\n        \"num_unique_values\": 4,\n        \"samples\": [\n          \"Prioritize Winning Moves\",\n          \"Prioritize Pieces\",\n          \"Random\"\n        ],\n        \"semantic_type\": \"\",\n        \"description\": \"\"\n      }\n    },\n    {\n      \"column\": \"Time Taken\",\n      \"properties\": {\n        \"dtype\": \"number\",\n        \"std\": 0.6259070255827103,\n        \"min\": 0.0242462158203125,\n        \"max\": 2.2551536560058594,\n        \"num_unique_values\": 36,\n        \"samples\": [\n          1.489126205444336,\n          0.07712864875793457,\n          0.043908119201660156\n        ],\n        \"semantic_type\": \"\",\n        \"description\": \"\"\n      }\n    }\n  ]\n}",
       "type": "dataframe",
       "variable_name": "results_df"
      },
      "text/html": [
       "\n",
       "  <div id=\"df-3ca39b68-a67f-4ece-8814-635e5b4535bb\" class=\"colab-df-container\">\n",
       "    <div>\n",
       "<style scoped>\n",
       "    .dataframe tbody tr th:only-of-type {\n",
       "        vertical-align: middle;\n",
       "    }\n",
       "\n",
       "    .dataframe tbody tr th {\n",
       "        vertical-align: top;\n",
       "    }\n",
       "\n",
       "    .dataframe thead th {\n",
       "        text-align: right;\n",
       "    }\n",
       "</style>\n",
       "<table border=\"1\" class=\"dataframe\">\n",
       "  <thead>\n",
       "    <tr style=\"text-align: right;\">\n",
       "      <th></th>\n",
       "      <th>Board Size</th>\n",
       "      <th>Depth</th>\n",
       "      <th>Strategy</th>\n",
       "      <th>Time Taken</th>\n",
       "    </tr>\n",
       "  </thead>\n",
       "  <tbody>\n",
       "    <tr>\n",
       "      <th>0</th>\n",
       "      <td>(4, 4)</td>\n",
       "      <td>4</td>\n",
       "      <td>Random</td>\n",
       "      <td>0.081343</td>\n",
       "    </tr>\n",
       "    <tr>\n",
       "      <th>1</th>\n",
       "      <td>(4, 4)</td>\n",
       "      <td>4</td>\n",
       "      <td>Prioritize Winning Moves</td>\n",
       "      <td>0.031066</td>\n",
       "    </tr>\n",
       "    <tr>\n",
       "      <th>2</th>\n",
       "      <td>(4, 4)</td>\n",
       "      <td>4</td>\n",
       "      <td>Prioritize Blocking Moves</td>\n",
       "      <td>0.024725</td>\n",
       "    </tr>\n",
       "    <tr>\n",
       "      <th>3</th>\n",
       "      <td>(4, 4)</td>\n",
       "      <td>4</td>\n",
       "      <td>Prioritize Pieces</td>\n",
       "      <td>0.024246</td>\n",
       "    </tr>\n",
       "    <tr>\n",
       "      <th>4</th>\n",
       "      <td>(4, 4)</td>\n",
       "      <td>6</td>\n",
       "      <td>Random</td>\n",
       "      <td>0.183856</td>\n",
       "    </tr>\n",
       "    <tr>\n",
       "      <th>5</th>\n",
       "      <td>(4, 4)</td>\n",
       "      <td>6</td>\n",
       "      <td>Prioritize Winning Moves</td>\n",
       "      <td>0.151130</td>\n",
       "    </tr>\n",
       "    <tr>\n",
       "      <th>6</th>\n",
       "      <td>(4, 4)</td>\n",
       "      <td>6</td>\n",
       "      <td>Prioritize Blocking Moves</td>\n",
       "      <td>0.142559</td>\n",
       "    </tr>\n",
       "    <tr>\n",
       "      <th>7</th>\n",
       "      <td>(4, 4)</td>\n",
       "      <td>6</td>\n",
       "      <td>Prioritize Pieces</td>\n",
       "      <td>0.201464</td>\n",
       "    </tr>\n",
       "    <tr>\n",
       "      <th>8</th>\n",
       "      <td>(4, 4)</td>\n",
       "      <td>8</td>\n",
       "      <td>Random</td>\n",
       "      <td>1.196212</td>\n",
       "    </tr>\n",
       "    <tr>\n",
       "      <th>9</th>\n",
       "      <td>(4, 4)</td>\n",
       "      <td>8</td>\n",
       "      <td>Prioritize Winning Moves</td>\n",
       "      <td>0.884317</td>\n",
       "    </tr>\n",
       "    <tr>\n",
       "      <th>10</th>\n",
       "      <td>(4, 4)</td>\n",
       "      <td>8</td>\n",
       "      <td>Prioritize Blocking Moves</td>\n",
       "      <td>0.795434</td>\n",
       "    </tr>\n",
       "    <tr>\n",
       "      <th>11</th>\n",
       "      <td>(4, 4)</td>\n",
       "      <td>8</td>\n",
       "      <td>Prioritize Pieces</td>\n",
       "      <td>0.658070</td>\n",
       "    </tr>\n",
       "    <tr>\n",
       "      <th>12</th>\n",
       "      <td>(4, 5)</td>\n",
       "      <td>4</td>\n",
       "      <td>Random</td>\n",
       "      <td>0.054578</td>\n",
       "    </tr>\n",
       "    <tr>\n",
       "      <th>13</th>\n",
       "      <td>(4, 5)</td>\n",
       "      <td>4</td>\n",
       "      <td>Prioritize Winning Moves</td>\n",
       "      <td>0.077129</td>\n",
       "    </tr>\n",
       "    <tr>\n",
       "      <th>14</th>\n",
       "      <td>(4, 5)</td>\n",
       "      <td>4</td>\n",
       "      <td>Prioritize Blocking Moves</td>\n",
       "      <td>0.052692</td>\n",
       "    </tr>\n",
       "    <tr>\n",
       "      <th>15</th>\n",
       "      <td>(4, 5)</td>\n",
       "      <td>4</td>\n",
       "      <td>Prioritize Pieces</td>\n",
       "      <td>0.051362</td>\n",
       "    </tr>\n",
       "    <tr>\n",
       "      <th>16</th>\n",
       "      <td>(4, 5)</td>\n",
       "      <td>6</td>\n",
       "      <td>Random</td>\n",
       "      <td>0.403483</td>\n",
       "    </tr>\n",
       "    <tr>\n",
       "      <th>17</th>\n",
       "      <td>(4, 5)</td>\n",
       "      <td>6</td>\n",
       "      <td>Prioritize Winning Moves</td>\n",
       "      <td>0.334327</td>\n",
       "    </tr>\n",
       "    <tr>\n",
       "      <th>18</th>\n",
       "      <td>(4, 5)</td>\n",
       "      <td>6</td>\n",
       "      <td>Prioritize Blocking Moves</td>\n",
       "      <td>0.295972</td>\n",
       "    </tr>\n",
       "    <tr>\n",
       "      <th>19</th>\n",
       "      <td>(4, 5)</td>\n",
       "      <td>6</td>\n",
       "      <td>Prioritize Pieces</td>\n",
       "      <td>0.163450</td>\n",
       "    </tr>\n",
       "    <tr>\n",
       "      <th>20</th>\n",
       "      <td>(4, 5)</td>\n",
       "      <td>8</td>\n",
       "      <td>Random</td>\n",
       "      <td>1.256497</td>\n",
       "    </tr>\n",
       "    <tr>\n",
       "      <th>21</th>\n",
       "      <td>(4, 5)</td>\n",
       "      <td>8</td>\n",
       "      <td>Prioritize Winning Moves</td>\n",
       "      <td>1.267462</td>\n",
       "    </tr>\n",
       "    <tr>\n",
       "      <th>22</th>\n",
       "      <td>(4, 5)</td>\n",
       "      <td>8</td>\n",
       "      <td>Prioritize Blocking Moves</td>\n",
       "      <td>1.256988</td>\n",
       "    </tr>\n",
       "    <tr>\n",
       "      <th>23</th>\n",
       "      <td>(4, 5)</td>\n",
       "      <td>8</td>\n",
       "      <td>Prioritize Pieces</td>\n",
       "      <td>1.247113</td>\n",
       "    </tr>\n",
       "    <tr>\n",
       "      <th>24</th>\n",
       "      <td>(5, 5)</td>\n",
       "      <td>4</td>\n",
       "      <td>Random</td>\n",
       "      <td>0.043899</td>\n",
       "    </tr>\n",
       "    <tr>\n",
       "      <th>25</th>\n",
       "      <td>(5, 5)</td>\n",
       "      <td>4</td>\n",
       "      <td>Prioritize Winning Moves</td>\n",
       "      <td>0.044502</td>\n",
       "    </tr>\n",
       "    <tr>\n",
       "      <th>26</th>\n",
       "      <td>(5, 5)</td>\n",
       "      <td>4</td>\n",
       "      <td>Prioritize Blocking Moves</td>\n",
       "      <td>0.043908</td>\n",
       "    </tr>\n",
       "    <tr>\n",
       "      <th>27</th>\n",
       "      <td>(5, 5)</td>\n",
       "      <td>4</td>\n",
       "      <td>Prioritize Pieces</td>\n",
       "      <td>0.043831</td>\n",
       "    </tr>\n",
       "    <tr>\n",
       "      <th>28</th>\n",
       "      <td>(5, 5)</td>\n",
       "      <td>6</td>\n",
       "      <td>Random</td>\n",
       "      <td>0.339464</td>\n",
       "    </tr>\n",
       "    <tr>\n",
       "      <th>29</th>\n",
       "      <td>(5, 5)</td>\n",
       "      <td>6</td>\n",
       "      <td>Prioritize Winning Moves</td>\n",
       "      <td>0.371907</td>\n",
       "    </tr>\n",
       "    <tr>\n",
       "      <th>30</th>\n",
       "      <td>(5, 5)</td>\n",
       "      <td>6</td>\n",
       "      <td>Prioritize Blocking Moves</td>\n",
       "      <td>0.368243</td>\n",
       "    </tr>\n",
       "    <tr>\n",
       "      <th>31</th>\n",
       "      <td>(5, 5)</td>\n",
       "      <td>6</td>\n",
       "      <td>Prioritize Pieces</td>\n",
       "      <td>0.381054</td>\n",
       "    </tr>\n",
       "    <tr>\n",
       "      <th>32</th>\n",
       "      <td>(5, 5)</td>\n",
       "      <td>8</td>\n",
       "      <td>Random</td>\n",
       "      <td>1.969957</td>\n",
       "    </tr>\n",
       "    <tr>\n",
       "      <th>33</th>\n",
       "      <td>(5, 5)</td>\n",
       "      <td>8</td>\n",
       "      <td>Prioritize Winning Moves</td>\n",
       "      <td>2.255154</td>\n",
       "    </tr>\n",
       "    <tr>\n",
       "      <th>34</th>\n",
       "      <td>(5, 5)</td>\n",
       "      <td>8</td>\n",
       "      <td>Prioritize Blocking Moves</td>\n",
       "      <td>1.678932</td>\n",
       "    </tr>\n",
       "    <tr>\n",
       "      <th>35</th>\n",
       "      <td>(5, 5)</td>\n",
       "      <td>8</td>\n",
       "      <td>Prioritize Pieces</td>\n",
       "      <td>1.489126</td>\n",
       "    </tr>\n",
       "  </tbody>\n",
       "</table>\n",
       "</div>\n",
       "    <div class=\"colab-df-buttons\">\n",
       "\n",
       "  <div class=\"colab-df-container\">\n",
       "    <button class=\"colab-df-convert\" onclick=\"convertToInteractive('df-3ca39b68-a67f-4ece-8814-635e5b4535bb')\"\n",
       "            title=\"Convert this dataframe to an interactive table.\"\n",
       "            style=\"display:none;\">\n",
       "\n",
       "  <svg xmlns=\"http://www.w3.org/2000/svg\" height=\"24px\" viewBox=\"0 -960 960 960\">\n",
       "    <path d=\"M120-120v-720h720v720H120Zm60-500h600v-160H180v160Zm220 220h160v-160H400v160Zm0 220h160v-160H400v160ZM180-400h160v-160H180v160Zm440 0h160v-160H620v160ZM180-180h160v-160H180v160Zm440 0h160v-160H620v160Z\"/>\n",
       "  </svg>\n",
       "    </button>\n",
       "\n",
       "  <style>\n",
       "    .colab-df-container {\n",
       "      display:flex;\n",
       "      gap: 12px;\n",
       "    }\n",
       "\n",
       "    .colab-df-convert {\n",
       "      background-color: #E8F0FE;\n",
       "      border: none;\n",
       "      border-radius: 50%;\n",
       "      cursor: pointer;\n",
       "      display: none;\n",
       "      fill: #1967D2;\n",
       "      height: 32px;\n",
       "      padding: 0 0 0 0;\n",
       "      width: 32px;\n",
       "    }\n",
       "\n",
       "    .colab-df-convert:hover {\n",
       "      background-color: #E2EBFA;\n",
       "      box-shadow: 0px 1px 2px rgba(60, 64, 67, 0.3), 0px 1px 3px 1px rgba(60, 64, 67, 0.15);\n",
       "      fill: #174EA6;\n",
       "    }\n",
       "\n",
       "    .colab-df-buttons div {\n",
       "      margin-bottom: 4px;\n",
       "    }\n",
       "\n",
       "    [theme=dark] .colab-df-convert {\n",
       "      background-color: #3B4455;\n",
       "      fill: #D2E3FC;\n",
       "    }\n",
       "\n",
       "    [theme=dark] .colab-df-convert:hover {\n",
       "      background-color: #434B5C;\n",
       "      box-shadow: 0px 1px 3px 1px rgba(0, 0, 0, 0.15);\n",
       "      filter: drop-shadow(0px 1px 2px rgba(0, 0, 0, 0.3));\n",
       "      fill: #FFFFFF;\n",
       "    }\n",
       "  </style>\n",
       "\n",
       "    <script>\n",
       "      const buttonEl =\n",
       "        document.querySelector('#df-3ca39b68-a67f-4ece-8814-635e5b4535bb button.colab-df-convert');\n",
       "      buttonEl.style.display =\n",
       "        google.colab.kernel.accessAllowed ? 'block' : 'none';\n",
       "\n",
       "      async function convertToInteractive(key) {\n",
       "        const element = document.querySelector('#df-3ca39b68-a67f-4ece-8814-635e5b4535bb');\n",
       "        const dataTable =\n",
       "          await google.colab.kernel.invokeFunction('convertToInteractive',\n",
       "                                                    [key], {});\n",
       "        if (!dataTable) return;\n",
       "\n",
       "        const docLinkHtml = 'Like what you see? Visit the ' +\n",
       "          '<a target=\"_blank\" href=https://colab.research.google.com/notebooks/data_table.ipynb>data table notebook</a>'\n",
       "          + ' to learn more about interactive tables.';\n",
       "        element.innerHTML = '';\n",
       "        dataTable['output_type'] = 'display_data';\n",
       "        await google.colab.output.renderOutput(dataTable, element);\n",
       "        const docLink = document.createElement('div');\n",
       "        docLink.innerHTML = docLinkHtml;\n",
       "        element.appendChild(docLink);\n",
       "      }\n",
       "    </script>\n",
       "  </div>\n",
       "\n",
       "\n",
       "<div id=\"df-6b71d492-d87e-41c8-a627-1b9d113a1f67\">\n",
       "  <button class=\"colab-df-quickchart\" onclick=\"quickchart('df-6b71d492-d87e-41c8-a627-1b9d113a1f67')\"\n",
       "            title=\"Suggest charts\"\n",
       "            style=\"display:none;\">\n",
       "\n",
       "<svg xmlns=\"http://www.w3.org/2000/svg\" height=\"24px\"viewBox=\"0 0 24 24\"\n",
       "     width=\"24px\">\n",
       "    <g>\n",
       "        <path d=\"M19 3H5c-1.1 0-2 .9-2 2v14c0 1.1.9 2 2 2h14c1.1 0 2-.9 2-2V5c0-1.1-.9-2-2-2zM9 17H7v-7h2v7zm4 0h-2V7h2v10zm4 0h-2v-4h2v4z\"/>\n",
       "    </g>\n",
       "</svg>\n",
       "  </button>\n",
       "\n",
       "<style>\n",
       "  .colab-df-quickchart {\n",
       "      --bg-color: #E8F0FE;\n",
       "      --fill-color: #1967D2;\n",
       "      --hover-bg-color: #E2EBFA;\n",
       "      --hover-fill-color: #174EA6;\n",
       "      --disabled-fill-color: #AAA;\n",
       "      --disabled-bg-color: #DDD;\n",
       "  }\n",
       "\n",
       "  [theme=dark] .colab-df-quickchart {\n",
       "      --bg-color: #3B4455;\n",
       "      --fill-color: #D2E3FC;\n",
       "      --hover-bg-color: #434B5C;\n",
       "      --hover-fill-color: #FFFFFF;\n",
       "      --disabled-bg-color: #3B4455;\n",
       "      --disabled-fill-color: #666;\n",
       "  }\n",
       "\n",
       "  .colab-df-quickchart {\n",
       "    background-color: var(--bg-color);\n",
       "    border: none;\n",
       "    border-radius: 50%;\n",
       "    cursor: pointer;\n",
       "    display: none;\n",
       "    fill: var(--fill-color);\n",
       "    height: 32px;\n",
       "    padding: 0;\n",
       "    width: 32px;\n",
       "  }\n",
       "\n",
       "  .colab-df-quickchart:hover {\n",
       "    background-color: var(--hover-bg-color);\n",
       "    box-shadow: 0 1px 2px rgba(60, 64, 67, 0.3), 0 1px 3px 1px rgba(60, 64, 67, 0.15);\n",
       "    fill: var(--button-hover-fill-color);\n",
       "  }\n",
       "\n",
       "  .colab-df-quickchart-complete:disabled,\n",
       "  .colab-df-quickchart-complete:disabled:hover {\n",
       "    background-color: var(--disabled-bg-color);\n",
       "    fill: var(--disabled-fill-color);\n",
       "    box-shadow: none;\n",
       "  }\n",
       "\n",
       "  .colab-df-spinner {\n",
       "    border: 2px solid var(--fill-color);\n",
       "    border-color: transparent;\n",
       "    border-bottom-color: var(--fill-color);\n",
       "    animation:\n",
       "      spin 1s steps(1) infinite;\n",
       "  }\n",
       "\n",
       "  @keyframes spin {\n",
       "    0% {\n",
       "      border-color: transparent;\n",
       "      border-bottom-color: var(--fill-color);\n",
       "      border-left-color: var(--fill-color);\n",
       "    }\n",
       "    20% {\n",
       "      border-color: transparent;\n",
       "      border-left-color: var(--fill-color);\n",
       "      border-top-color: var(--fill-color);\n",
       "    }\n",
       "    30% {\n",
       "      border-color: transparent;\n",
       "      border-left-color: var(--fill-color);\n",
       "      border-top-color: var(--fill-color);\n",
       "      border-right-color: var(--fill-color);\n",
       "    }\n",
       "    40% {\n",
       "      border-color: transparent;\n",
       "      border-right-color: var(--fill-color);\n",
       "      border-top-color: var(--fill-color);\n",
       "    }\n",
       "    60% {\n",
       "      border-color: transparent;\n",
       "      border-right-color: var(--fill-color);\n",
       "    }\n",
       "    80% {\n",
       "      border-color: transparent;\n",
       "      border-right-color: var(--fill-color);\n",
       "      border-bottom-color: var(--fill-color);\n",
       "    }\n",
       "    90% {\n",
       "      border-color: transparent;\n",
       "      border-bottom-color: var(--fill-color);\n",
       "    }\n",
       "  }\n",
       "</style>\n",
       "\n",
       "  <script>\n",
       "    async function quickchart(key) {\n",
       "      const quickchartButtonEl =\n",
       "        document.querySelector('#' + key + ' button');\n",
       "      quickchartButtonEl.disabled = true;  // To prevent multiple clicks.\n",
       "      quickchartButtonEl.classList.add('colab-df-spinner');\n",
       "      try {\n",
       "        const charts = await google.colab.kernel.invokeFunction(\n",
       "            'suggestCharts', [key], {});\n",
       "      } catch (error) {\n",
       "        console.error('Error during call to suggestCharts:', error);\n",
       "      }\n",
       "      quickchartButtonEl.classList.remove('colab-df-spinner');\n",
       "      quickchartButtonEl.classList.add('colab-df-quickchart-complete');\n",
       "    }\n",
       "    (() => {\n",
       "      let quickchartButtonEl =\n",
       "        document.querySelector('#df-6b71d492-d87e-41c8-a627-1b9d113a1f67 button');\n",
       "      quickchartButtonEl.style.display =\n",
       "        google.colab.kernel.accessAllowed ? 'block' : 'none';\n",
       "    })();\n",
       "  </script>\n",
       "</div>\n",
       "\n",
       "  <div id=\"id_a05a6a71-c05d-4274-b508-277d1455cb2a\">\n",
       "    <style>\n",
       "      .colab-df-generate {\n",
       "        background-color: #E8F0FE;\n",
       "        border: none;\n",
       "        border-radius: 50%;\n",
       "        cursor: pointer;\n",
       "        display: none;\n",
       "        fill: #1967D2;\n",
       "        height: 32px;\n",
       "        padding: 0 0 0 0;\n",
       "        width: 32px;\n",
       "      }\n",
       "\n",
       "      .colab-df-generate:hover {\n",
       "        background-color: #E2EBFA;\n",
       "        box-shadow: 0px 1px 2px rgba(60, 64, 67, 0.3), 0px 1px 3px 1px rgba(60, 64, 67, 0.15);\n",
       "        fill: #174EA6;\n",
       "      }\n",
       "\n",
       "      [theme=dark] .colab-df-generate {\n",
       "        background-color: #3B4455;\n",
       "        fill: #D2E3FC;\n",
       "      }\n",
       "\n",
       "      [theme=dark] .colab-df-generate:hover {\n",
       "        background-color: #434B5C;\n",
       "        box-shadow: 0px 1px 3px 1px rgba(0, 0, 0, 0.15);\n",
       "        filter: drop-shadow(0px 1px 2px rgba(0, 0, 0, 0.3));\n",
       "        fill: #FFFFFF;\n",
       "      }\n",
       "    </style>\n",
       "    <button class=\"colab-df-generate\" onclick=\"generateWithVariable('results_df')\"\n",
       "            title=\"Generate code using this dataframe.\"\n",
       "            style=\"display:none;\">\n",
       "\n",
       "  <svg xmlns=\"http://www.w3.org/2000/svg\" height=\"24px\"viewBox=\"0 0 24 24\"\n",
       "       width=\"24px\">\n",
       "    <path d=\"M7,19H8.4L18.45,9,17,7.55,7,17.6ZM5,21V16.75L18.45,3.32a2,2,0,0,1,2.83,0l1.4,1.43a1.91,1.91,0,0,1,.58,1.4,1.91,1.91,0,0,1-.58,1.4L9.25,21ZM18.45,9,17,7.55Zm-12,3A5.31,5.31,0,0,0,4.9,8.1,5.31,5.31,0,0,0,1,6.5,5.31,5.31,0,0,0,4.9,4.9,5.31,5.31,0,0,0,6.5,1,5.31,5.31,0,0,0,8.1,4.9,5.31,5.31,0,0,0,12,6.5,5.46,5.46,0,0,0,6.5,12Z\"/>\n",
       "  </svg>\n",
       "    </button>\n",
       "    <script>\n",
       "      (() => {\n",
       "      const buttonEl =\n",
       "        document.querySelector('#id_a05a6a71-c05d-4274-b508-277d1455cb2a button.colab-df-generate');\n",
       "      buttonEl.style.display =\n",
       "        google.colab.kernel.accessAllowed ? 'block' : 'none';\n",
       "\n",
       "      buttonEl.onclick = () => {\n",
       "        google.colab.notebook.generateWithVariable('results_df');\n",
       "      }\n",
       "      })();\n",
       "    </script>\n",
       "  </div>\n",
       "\n",
       "    </div>\n",
       "  </div>\n"
      ],
      "text/plain": [
       "   Board Size  Depth                   Strategy  Time Taken\n",
       "0      (4, 4)      4                     Random    0.081343\n",
       "1      (4, 4)      4   Prioritize Winning Moves    0.031066\n",
       "2      (4, 4)      4  Prioritize Blocking Moves    0.024725\n",
       "3      (4, 4)      4          Prioritize Pieces    0.024246\n",
       "4      (4, 4)      6                     Random    0.183856\n",
       "5      (4, 4)      6   Prioritize Winning Moves    0.151130\n",
       "6      (4, 4)      6  Prioritize Blocking Moves    0.142559\n",
       "7      (4, 4)      6          Prioritize Pieces    0.201464\n",
       "8      (4, 4)      8                     Random    1.196212\n",
       "9      (4, 4)      8   Prioritize Winning Moves    0.884317\n",
       "10     (4, 4)      8  Prioritize Blocking Moves    0.795434\n",
       "11     (4, 4)      8          Prioritize Pieces    0.658070\n",
       "12     (4, 5)      4                     Random    0.054578\n",
       "13     (4, 5)      4   Prioritize Winning Moves    0.077129\n",
       "14     (4, 5)      4  Prioritize Blocking Moves    0.052692\n",
       "15     (4, 5)      4          Prioritize Pieces    0.051362\n",
       "16     (4, 5)      6                     Random    0.403483\n",
       "17     (4, 5)      6   Prioritize Winning Moves    0.334327\n",
       "18     (4, 5)      6  Prioritize Blocking Moves    0.295972\n",
       "19     (4, 5)      6          Prioritize Pieces    0.163450\n",
       "20     (4, 5)      8                     Random    1.256497\n",
       "21     (4, 5)      8   Prioritize Winning Moves    1.267462\n",
       "22     (4, 5)      8  Prioritize Blocking Moves    1.256988\n",
       "23     (4, 5)      8          Prioritize Pieces    1.247113\n",
       "24     (5, 5)      4                     Random    0.043899\n",
       "25     (5, 5)      4   Prioritize Winning Moves    0.044502\n",
       "26     (5, 5)      4  Prioritize Blocking Moves    0.043908\n",
       "27     (5, 5)      4          Prioritize Pieces    0.043831\n",
       "28     (5, 5)      6                     Random    0.339464\n",
       "29     (5, 5)      6   Prioritize Winning Moves    0.371907\n",
       "30     (5, 5)      6  Prioritize Blocking Moves    0.368243\n",
       "31     (5, 5)      6          Prioritize Pieces    0.381054\n",
       "32     (5, 5)      8                     Random    1.969957\n",
       "33     (5, 5)      8   Prioritize Winning Moves    2.255154\n",
       "34     (5, 5)      8  Prioritize Blocking Moves    1.678932\n",
       "35     (5, 5)      8          Prioritize Pieces    1.489126"
      ]
     },
     "execution_count": 285,
     "metadata": {},
     "output_type": "execute_result"
    }
   ],
   "source": [
    "results_df"
   ]
  },
  {
   "cell_type": "markdown",
   "metadata": {
    "id": "IzIArltRfiHV"
   },
   "source": [
    "### The first few moves [5 points]\n",
    "\n",
    "Start with an empty board. This is the worst case scenario for minimax search since it needs solve all possible games that can be played (minus some pruning) before making the decision. What can you do?"
   ]
  },
  {
   "cell_type": "markdown",
   "metadata": {
    "id": "O84EFTGbIvsz"
   },
   "source": [
    "When starting with an empty board, the minimax search needs to explore all possible game states, which can lead to a large branching factor and deep search depths. There are several techniques to improve the efficiency of the minimax search:\n",
    "\n",
    "\n",
    "1. Alpha-Beta Pruning: We can implement alpha-beta pruning to reduce the number of nodes evaluated in the search tree. It discard branches of the search tree that are known to be irrelevant to the final decision and helps in reducing the search space.\n",
    "\n",
    "2. Move Ordering: Prioritize certain moves during the search based on heuristics or evaluation functions. This helps in improving alpha-beta pruning effectiveness by exploring more promising branches first.\n",
    "\n",
    "3. Iterative Deepening: Perform iterative deepening to gradually increase the search depth. This allows the algorithm to make a preliminary decision at a shallow depth and refine it with deeper searches. It also helps in managing the time taken for the search.\n",
    "\n",
    "4. Transposition Tables: Use transposition tables to store previously evaluated positions and their associated scores. It helps in avoiding redundant evaluations of the same positions during the search.\n",
    "\n",
    "5. Heuristic Evaluation Functions: Design heuristic evaluation functions that provide approximate estimates of the game state's value. These functions can guide the search towards more promising moves and help in pruning irrelevant branches."
   ]
  },
  {
   "cell_type": "markdown",
   "metadata": {
    "id": "VwYXKwNPfiHV"
   },
   "source": [
    "### Playtime [5 points]\n",
    "\n",
    "Let the Minimax Search agent play a random agent on a small board. Analyze wins, losses and draws."
   ]
  },
  {
   "cell_type": "code",
   "execution_count": null,
   "metadata": {
    "id": "NcMTmIKwfiHV"
   },
   "outputs": [],
   "source": [
    "\n",
    "import numpy as np\n",
    "\n",
    "def simulate_game():\n",
    "    # Initialize an empty board\n",
    "    board = np.zeros((6, 7), dtype=int)\n",
    "\n",
    "    # Create instances of agents\n",
    "    random_agent = random\n",
    "    minimax_agent = Connect4AgentMinimax(1, available_actions, result, terminal, utility)\n",
    "\n",
    "    # Alternate turns until the game is over\n",
    "    while True:\n",
    "        # Random agent's turn\n",
    "        random_action = random_agent(board)\n",
    "        board = result(board, -1, random_action)\n",
    "        if terminal(board, 4):\n",
    "            return -1  # Random agent wins\n",
    "        if len(available_actions(board)) == 0:\n",
    "            return 0  # Draw\n",
    "\n",
    "        # Minimax agent's turn\n",
    "        minimax_action = minimax_agent.find_best_move(board, depth=4, n=4)\n",
    "        board = result(board, 1, minimax_action)\n",
    "        if terminal(board, 4):\n",
    "            return 1  # Minimax agent wins\n",
    "        if len(available_actions(board)) == 0:\n",
    "            return 0  # Draw\n",
    "\n",
    "\n",
    "w = 0\n",
    "l = 0\n",
    "d = 0\n",
    "num_games = 5  # Number of games to simulate\n",
    "\n",
    "# Simulate multiple games and record outcomes\n",
    "for _ in range(num_games):\n",
    "    r = simulate_game()\n",
    "    if r == 1:\n",
    "        w += 1\n",
    "    elif r == -1:\n",
    "        l += 1\n",
    "    else:\n",
    "        d += 1\n",
    "\n",
    "# Analyze the results\n",
    "# print(\"Results after\", num_games, \"games:\")\n",
    "# print(\"Wins minimax agent:\", w)\n",
    "# print(\"Losses minimax agent:\", l)\n",
    "# print(\"Draws:\", d)"
   ]
  },
  {
   "cell_type": "code",
   "execution_count": null,
   "metadata": {
    "id": "iDJ10aiIPpgh"
   },
   "outputs": [],
   "source": [
    "#PLaytime between random agent and minimax agent\n",
    "\n",
    "small_board = np.zeros((6, 7), dtype=int)\n",
    "\n",
    "# Define the agents\n",
    "minimax_agent = Connect4_Minimaxagent(\n",
    "    player=1, f_action=available_actions, f_result=result,\n",
    "    f_terminal=terminal, f_utility=utility\n",
    ")\n",
    "random_agent = random\n",
    "\n",
    "# Play multiple games and record the results\n",
    "num_games = 1000\n",
    "results = {1: 0, -1: 0, 'draw': 0}\n",
    "\n",
    "for _ in range(num_games):\n",
    "    # Randomly choose the starting player for each game\n",
    "    starting_player = np.random.choice([1, -1])\n",
    "    # Reset the board for a new game\n",
    "    board = small_board.copy()\n",
    "    # Play the game until a terminal state is reached\n",
    "    while True:\n",
    "        if starting_player == 1:\n",
    "            # Minimax agent's turn\n",
    "            move = minimax_agent.find_best_move(board, depth=5, n=4)\n",
    "        else:\n",
    "            # Random agent's turn\n",
    "            move = random_agent(board, player=-1)\n",
    "        if move is None:\n",
    "            # Game ends in a draw\n",
    "            results['draw'] += 1\n",
    "            break\n",
    "        # Update the board with the chosen move\n",
    "        board = result_(board, starting_player, move)\n",
    "        # Check for a terminal state\n",
    "        if terminal_(board, n_=4):\n",
    "            winner = starting_player\n",
    "            results[winner] += 1\n",
    "            break\n",
    "        # Switch players\n",
    "        starting_player *= -1\n",
    "\n",
    "# Print the results\n",
    "# print(\"Results after\", num_games, \"games:\")\n",
    "# print(\"Minimax Agent wins (1):\", results[1])\n",
    "# print(\"Random Agent wins (-1):\", results[-1])\n",
    "# print(\"Draws:\", results['draw'])"
   ]
  },
  {
   "cell_type": "markdown",
   "metadata": {
    "id": "qWZDf57nfiHW"
   },
   "source": [
    "## Task 4: Heuristic Alpha-Beta Tree Search\n",
    "\n",
    "### Heuristic evaluation function [15 points]\n",
    "\n",
    "Define and implement a heuristic evaluation function."
   ]
  },
  {
   "cell_type": "code",
   "execution_count": 1,
   "metadata": {
    "id": "PFK-MwXG18PO"
   },
   "outputs": [],
   "source": [
    "import numpy as np\n",
    "\n",
    "# Define the number of consecutive discs required for a win\n",
    "N_CONSECUTIVE = 4\n",
    "\n",
    "def heuristic_evaluation(board, player):\n",
    "    score = 0\n",
    "\n",
    "    # Evaluate horizontally, vertically, and diagonally\n",
    "    for r in range(board.shape[0] - N_CONSECUTIVE + 1):\n",
    "        for c in range(board.shape[1] - N_CONSECUTIVE + 1):\n",
    "            # Extract windows for horizontal, vertical, and diagonal evaluation\n",
    "            horizontal_window = board[r:r + N_CONSECUTIVE, c:c + N_CONSECUTIVE]\n",
    "            vertical_window = board[r:r + N_CONSECUTIVE, c]\n",
    "            diagonal_window_1 = [board[r + i, c + i] for i in range(N_CONSECUTIVE)]\n",
    "            diagonal_window_2 = [board[r + N_CONSECUTIVE - 1 - i, c + i] for i in range(N_CONSECUTIVE)]\n",
    "\n",
    "            # Evaluate each window\n",
    "            score += evaluate_window(horizontal_window, player)\n",
    "            score += evaluate_window(vertical_window, player)\n",
    "            score += evaluate_window(diagonal_window_1, player)\n",
    "            score += evaluate_window(diagonal_window_2, player)\n",
    "\n",
    "    return score\n",
    "\n",
    "def evaluate_window(window, player):\n",
    "    opponent = -player\n",
    "    player_count = np.sum(window == player)\n",
    "    empty_count = np.sum(window == 0)\n",
    "\n",
    "    if player_count == N_CONSECUTIVE:\n",
    "        return 1000  # Winning move\n",
    "    elif player_count == N_CONSECUTIVE - 1 and empty_count == 1:\n",
    "        return 20  # Potential winning move\n",
    "    elif player_count == N_CONSECUTIVE - 2 and empty_count == 2:\n",
    "        return 6  # Favorable configuration\n",
    "    elif player_count == 1 and empty_count == N_CONSECUTIVE - 1:\n",
    "        return 1  # Single disc in a row\n",
    "    elif np.sum(window == opponent) == N_CONSECUTIVE - 1 and empty_count == 1:\n",
    "        return -6  # Opponent's potential winning move\n",
    "    return 0\n",
    "  # No significant advantage or disadvantage"
   ]
  },
  {
   "cell_type": "code",
   "execution_count": 2,
   "metadata": {
    "colab": {
     "base_uri": "https://localhost:8080/"
    },
    "id": "obJnJYV62CJc",
    "outputId": "a4358a8f-a6e8-4066-afd0-899cd4f19269"
   },
   "outputs": [
    {
     "name": "stdout",
     "output_type": "stream",
     "text": [
      "Heuristic score for player 1 : 1061\n"
     ]
    }
   ],
   "source": [
    "board = np.array([\n",
    "    [1, 0, 0, 0, -1, 0, 0],\n",
    "    [0, 0, 0, 0, 1, 1, 1],\n",
    "    [1, 0, -1, 0, 0, 0, 0],\n",
    "    [0, 0, 0, 1, 1, 0, 0],\n",
    "    [1, 1, 1, 1, 1, 1, 0],\n",
    "    [1, 0, -1, 1, 1, 1, 1]\n",
    "])\n",
    "\n",
    "player = 1\n",
    "score = heuristic_evaluation(board, player)\n",
    "print(\"Heuristic score for player\", player, \":\", score)"
   ]
  },
  {
   "cell_type": "markdown",
   "metadata": {
    "id": "5hA0pLWMfiHW"
   },
   "source": [
    "### Cutting Off Search [10 points]\n",
    "\n",
    "Modify your minimax search with alpha-beta pruning to cut off search at a specified depth and use the heuristic evaluation function. Experiment with different cutoff values."
   ]
  },
  {
   "cell_type": "code",
   "execution_count": null,
   "metadata": {
    "id": "dsAdXZp73vTj"
   },
   "outputs": [],
   "source": [
    "class Connect4AgentMinimax:\n",
    "    def __init__(self, player, actions, result, terminal, heuristic):\n",
    "        self.player = player\n",
    "        self.actions = actions\n",
    "        self.result = result\n",
    "        self.terminal = terminal\n",
    "        self.heuristic = heuristic\n",
    "\n",
    "    def minimax_alpha_beta(self, board, player, depth, alpha, beta, maxi_player):\n",
    "        if depth == 0 or self.terminal(board):\n",
    "            return self.heuristic(board, player)\n",
    "\n",
    "        valid_actions = self.actions(board)\n",
    "        if maxi_player:\n",
    "            max = float('-inf')\n",
    "            for action in valid_actions:\n",
    "                new_board = self.result(board, player, action)\n",
    "                val = self.minimax_alpha_beta(new_board, player, depth - 1, alpha, beta, False)\n",
    "                max_val = max(max_val, val)\n",
    "                alpha = max(alpha, val)\n",
    "                if alpha >= beta:\n",
    "                    break\n",
    "            return max_val\n",
    "        else:\n",
    "            min_val = float('inf')\n",
    "            for action in valid_actions:\n",
    "                new_board = self.result(board, player, action)\n",
    "                val = self.minimax_alpha_beta(new_board, player, depth - 1, alpha, beta, True)\n",
    "                min_val = min(min_val, val)\n",
    "                beta = min(beta, val)\n",
    "                if alpha >= beta:\n",
    "                    break\n",
    "            return min_val\n",
    "\n",
    "    def find_move(self, board, depth):\n",
    "        valid_actions = self.actions(board)\n",
    "        best_move = None\n",
    "        best_val = float('-inf') if self.player == 1 else float('inf')\n",
    "        for action in valid_actions:\n",
    "            new_board = self.result(board, self.player, action)\n",
    "            val = self.minimax_alpha_beta(new_board, self.player, depth, float('-inf'), float('inf'), self.player != 1)\n",
    "            if (self.player == 1 and val > best_val) or (self.player == -1 and val < best_val):\n",
    "                best_val = val\n",
    "                best_move = action\n",
    "        return best_move"
   ]
  },
  {
   "cell_type": "markdown",
   "metadata": {
    "id": "2K6WSRJsfiHX"
   },
   "source": [
    "Experiment with the same manually created boards as above to check if the agent spots wining opportunities."
   ]
  },
  {
   "cell_type": "code",
   "execution_count": null,
   "metadata": {
    "colab": {
     "base_uri": "https://localhost:8080/"
    },
    "id": "yMCFfITZ44aT",
    "outputId": "c6ae56e0-c4f5-43bc-d294-2eb0c96bbfd6"
   },
   "outputs": [
    {
     "name": "stdout",
     "output_type": "stream",
     "text": [
      "Best move for board 1: 0\n",
      "Best move for board 2: 0\n"
     ]
    }
   ],
   "source": [
    "board1 = np.array([\n",
    "    [ 1, -1,  1, -1],\n",
    "    [-1,  1,  1, -1],\n",
    "    [ 0,  0, -1,  1],\n",
    "    [ 0,  0,  0,  0]\n",
    "])\n",
    "\n",
    "board2 = np.array([\n",
    "    [ 0,  0,  0,  0],\n",
    "    [ 1,  1,  0,  0],\n",
    "    [-1, -1,  1,  0],\n",
    "    [-1,  1, -1,  1]\n",
    "])\n",
    "\n",
    "# Initialize the Connect4AgentMinimax with player 1\n",
    "agent = Connect4AgentMinimax(player=1, f_action=available_actions, f_result=result, f_terminal=terminal, heuristic_eval=heuristic_evaluation)\n",
    "\n",
    "# Find the best move for each board\n",
    "best_move1 = agent.find_best_move_cut(board1, depth=3)\n",
    "best_move2 = agent.find_best_move_cut(board2, depth=3)\n",
    "\n",
    "print(\"Best move for board 1:\", best_move1)\n",
    "print(\"Best move for board 2:\", best_move2)\n"
   ]
  },
  {
   "cell_type": "markdown",
   "metadata": {
    "id": "uxGUqtw5fiHY"
   },
   "source": [
    "How long does it take to make a move? Start with a smaller board with 4 columns and make the board larger by adding columns."
   ]
  },
  {
   "cell_type": "code",
   "execution_count": null,
   "metadata": {
    "colab": {
     "base_uri": "https://localhost:8080/"
    },
    "id": "gsH81-K2fiHY",
    "outputId": "34445786-cb99-4c43-9bc1-b363e0a57a35"
   },
   "outputs": [
    {
     "name": "stdout",
     "output_type": "stream",
     "text": [
      "Time taken for a move for different board sizes:\n",
      "Board Size: 4 Columns, Time Taken: 0.7153270244598389 seconds\n",
      "Board Size: 5 Columns, Time Taken: 4.6984124183654785 seconds\n",
      "Board Size: 6 Columns, Time Taken: 14.12571406364441 seconds\n",
      "Board Size: 7 Columns, Time Taken: 44.577972412109375 seconds\n"
     ]
    }
   ],
   "source": [
    "import time\n",
    "\n",
    "def measure_time_for_move(board_size, depth, heuristic_func, n):\n",
    "    # Initialize an empty board of the specified size\n",
    "    board = np.zeros((6, board_size), dtype=int)\n",
    "\n",
    "    # Create an instance of the Connect4AgentMinimax class\n",
    "    connect4_agent = Connect4AgentMinimax(player=1, heuristic_eval=heuristic_func, f_action=available_actions, f_result=result, f_terminal=terminal)\n",
    "\n",
    "    start_time = time.time()\n",
    "\n",
    "    _ = connect4_agent.find_best_move_cut(board, depth)\n",
    "\n",
    "    # Record the end time\n",
    "    end_time = time.time()\n",
    "\n",
    "    time_taken = end_time - start_time\n",
    "\n",
    "    return time_taken\n",
    "\n",
    "# Define board sizes to test\n",
    "board_sizes = [4, 5, 6, 7]\n",
    "\n",
    "# Define depth for the search\n",
    "depth = 5\n",
    "\n",
    "# Initialize a dictionary to store the results\n",
    "results = {}\n",
    "\n",
    "for board_size in board_sizes:\n",
    "    time_taken = measure_time_for_move(board_size, depth, heuristic_evaluation, n=4)\n",
    "    results[board_size] = time_taken\n",
    "\n",
    "print(\"Time taken for a move for different board sizes:\")\n",
    "for board_size, time_taken in results.items():\n",
    "    print(\"Board Size:\", board_size, \"Columns, Time Taken:\", time_taken, \"seconds\")\n"
   ]
  },
  {
   "cell_type": "markdown",
   "metadata": {
    "id": "XWzO7se6fiHY"
   },
   "source": [
    "### Playtime [5 points]\n",
    "\n",
    "Let two heuristic search agents (different cutoff depth, different heuristic evaluation function) compete against each other on a reasonably sized board. Since there is no randomness, you only need to let them play once."
   ]
  },
  {
   "cell_type": "code",
   "execution_count": null,
   "metadata": {
    "colab": {
     "base_uri": "https://localhost:8080/",
     "height": 1000
    },
    "id": "wcAlTiOIrMHL",
    "outputId": "55cdb7c0-a84b-425c-808a-014744c22348"
   },
   "outputs": [
    {
     "name": "stdout",
     "output_type": "stream",
     "text": [
      "Player 1's Turn:\n"
     ]
    },
    {
     "data": {
      "image/png": "[encoded data removed]",
      "text/plain": [
       "<Figure size 640x480 with 1 Axes>"
      ]
     },
     "metadata": {},
     "output_type": "display_data"
    },
    {
     "name": "stdout",
     "output_type": "stream",
     "text": [
      "Player 2's Turn:\n"
     ]
    },
    {
     "data": {
      "image/png": "[encoded data removed]",
      "text/plain": [
       "<Figure size 640x480 with 1 Axes>"
      ]
     },
     "metadata": {},
     "output_type": "display_data"
    },
    {
     "name": "stdout",
     "output_type": "stream",
     "text": [
      "Player 1's Turn:\n"
     ]
    },
    {
     "data": {
      "image/png": "[encoded data removed]",
      "text/plain": [
       "<Figure size 640x480 with 1 Axes>"
      ]
     },
     "metadata": {},
     "output_type": "display_data"
    },
    {
     "name": "stdout",
     "output_type": "stream",
     "text": [
      "Player 2's Turn:\n"
     ]
    },
    {
     "data": {
      "image/png": "[encoded data removed]",
      "text/plain": [
       "<Figure size 640x480 with 1 Axes>"
      ]
     },
     "metadata": {},
     "output_type": "display_data"
    },
    {
     "name": "stdout",
     "output_type": "stream",
     "text": [
      "Player 1's Turn:\n"
     ]
    },
    {
     "data": {
      "image/png": "[encoded data removed]",
      "text/plain": [
       "<Figure size 640x480 with 1 Axes>"
      ]
     },
     "metadata": {},
     "output_type": "display_data"
    },
    {
     "name": "stdout",
     "output_type": "stream",
     "text": [
      "Player 2's Turn:\n"
     ]
    },
    {
     "data": {
      "image/png": "[encoded data removed]",
      "text/plain": [
       "<Figure size 640x480 with 1 Axes>"
      ]
     },
     "metadata": {},
     "output_type": "display_data"
    },
    {
     "name": "stdout",
     "output_type": "stream",
     "text": [
      "Player 1's Turn:\n"
     ]
    },
    {
     "data": {
      "image/png": "[encoded data removed]",
      "text/plain": [
       "<Figure size 640x480 with 1 Axes>"
      ]
     },
     "metadata": {},
     "output_type": "display_data"
    },
    {
     "name": "stdout",
     "output_type": "stream",
     "text": [
      "Player 2's Turn:\n"
     ]
    },
    {
     "data": {
      "image/png": "[encoded data removed]",
      "text/plain": [
       "<Figure size 640x480 with 1 Axes>"
      ]
     },
     "metadata": {},
     "output_type": "display_data"
    },
    {
     "name": "stdout",
     "output_type": "stream",
     "text": [
      "Player 1's Turn:\n"
     ]
    },
    {
     "data": {
      "image/png": "[encoded data removed]",
      "text/plain": [
       "<Figure size 640x480 with 1 Axes>"
      ]
     },
     "metadata": {},
     "output_type": "display_data"
    }
   ],
   "source": [
    "import numpy as np\n",
    "\n",
    "# Define the number of consecutive discs required for a win\n",
    "N_CONSECUTIVE = 4\n",
    "\n",
    "def heuristic_evaluation(board, player, version):\n",
    "    score = 0\n",
    "\n",
    "    # Evaluate horizontally, vertically, and diagonally\n",
    "    for r in range(board.shape[0] - N_CONSECUTIVE + 1):\n",
    "        for c in range(board.shape[1] - N_CONSECUTIVE + 1):\n",
    "            # Extract windows for horizontal, vertical, and diagonal evaluation\n",
    "            horizontal_window = board[r:r + N_CONSECUTIVE, c:c + N_CONSECUTIVE]\n",
    "            vertical_window = board[r:r + N_CONSECUTIVE, c]\n",
    "            diagonal_window_1 = [board[r + i, c + i] for i in range(N_CONSECUTIVE)]\n",
    "            diagonal_window_2 = [board[r + N_CONSECUTIVE - 1 - i, c + i] for i in range(N_CONSECUTIVE)]\n",
    "\n",
    "            # Evaluate each window\n",
    "            score += evaluate_window(horizontal_window, player)\n",
    "            score += evaluate_window(vertical_window, player)\n",
    "            score += evaluate_window(diagonal_window_1, player)\n",
    "            score += evaluate_window(diagonal_window_2, player)\n",
    "\n",
    "    return score\n",
    "\n",
    "def evaluate_window(window, player):\n",
    "    opponent = -player\n",
    "    player_count = np.sum(window == player)\n",
    "    empty_count = np.sum(window == 0)\n",
    "\n",
    "    if player_count == N_CONSECUTIVE:\n",
    "        return 1000  # Winning move\n",
    "    elif player_count == N_CONSECUTIVE - 1 and empty_count == 1:\n",
    "        return 20  # Potential winning move\n",
    "    elif player_count == N_CONSECUTIVE - 2 and empty_count == 2:\n",
    "        return 6  # Favorable configuration\n",
    "    elif player_count == 1 and empty_count == N_CONSECUTIVE - 1:\n",
    "        return 1  # Single disc in a row\n",
    "    elif np.sum(window == opponent) == N_CONSECUTIVE - 1 and empty_count == 1:\n",
    "        return -6  # Opponent's potential winning move\n",
    "    return 0\n",
    "  # No significant advantage or disadvantage\n",
    "\n",
    "\n",
    "# Create agents with different heuristic evaluation functions\n",
    "heuristic_evaluation1 = lambda board, player: heuristic_evaluation(board, player, version=1)\n",
    "heuristic_evaluation2 = lambda board, player: heuristic_evaluation(board, player, version=2)\n",
    "\n",
    "# Create agents with different heuristic evaluation functions\n",
    "agent1 = Connect4AgentMinimax(player=1, f_action=available_actions, f_result=result, f_terminal=terminal, heuristic_eval=heuristic_evaluation1)\n",
    "agent2 = Connect4AgentMinimax(player=-1, f_action=available_actions, f_result=result, f_terminal=terminal, heuristic_eval=heuristic_evaluation2)\n",
    "\n",
    "# Create a board\n",
    "board = np.zeros((6, 7), dtype=int)\n",
    "\n",
    "# Alternate between players until the game reaches a terminal state\n",
    "current_player = 1\n",
    "while not terminal(board):\n",
    "    if current_player == 1:\n",
    "        print(\"Player 1's Turn:\")\n",
    "        best_move = agent1.find_best_move_cutoff(board, depth=3)\n",
    "        board = result(board, 1, best_move)\n",
    "        visualize(board)\n",
    "        current_player = -1\n",
    "    else:\n",
    "        print(\"Player 2's Turn:\")\n",
    "        best_move = agent2.find_best_move_cutoff(board, depth=3)\n",
    "        board = result(board, -1, best_move)\n",
    "        visualize(board)\n",
    "        current_player = 1"
   ]
  },
  {
   "cell_type": "markdown",
   "metadata": {
    "id": "wBscK_epfiHl"
   },
   "source": [
    "## Challenge task [up to +10 bonus point will be awarded separately]\n",
    "\n",
    "Find another student and let your best agent play against the other student's best player. We will set up a class tournament on Canvas. This tournament will continue after the submission deadline."
   ]
  },
  {
   "cell_type": "markdown",
   "metadata": {
    "id": "yENy4VWUfiHl"
   },
   "source": [
    "## Graduate student advanced task: Pure Monte Carlo Search and Best First Move [10 point]\n",
    "\n",
    "__Undergraduate students:__ This is a bonus task you can attempt if you like [+5 bonus point].\n",
    "\n",
    "### Pure Monte Carlo Search\n",
    "\n",
    "Implement Pure Monte Carlo Search and investigate how this search performs on the test boards that you have used above."
   ]
  },
  {
   "cell_type": "code",
   "execution_count": null,
   "metadata": {
    "id": "tsdxnxNMfiHm"
   },
   "outputs": [],
   "source": [
    "import numpy as np\n",
    "\n",
    "def pure_monte(board, player):\n",
    "    vactions = available_actions(board)\n",
    "    if not vactions:\n",
    "        return None  # No valid actions\n",
    "\n",
    "    action_scores = {action: sum(simulate(result(board, player, action), player) for _ in range(num_simulations)) for action in vactions}\n",
    "    best_action = max(action_scores, key=lambda x: action_scores[x])\n",
    "    return best_action\n",
    "\n",
    "\n",
    "def simulate(board, player):\n",
    "    while not terminal(board):\n",
    "        board = result(board, player, np.random.choice(available_actions(board)))\n",
    "        player *= -1\n",
    "\n",
    "    # Return the utility value for the original player in the terminal state\n",
    "    return utility(board, n)"
   ]
  },
  {
   "cell_type": "code",
   "execution_count": null,
   "metadata": {
    "id": "8PoUsy7g__VF"
   },
   "outputs": [],
   "source": [
    "manual_boards = [\n",
    "    np.array([\n",
    "        [0, 0, 0, 0, 0, 0, 0],\n",
    "        [0, 0, 0, 0, 0, 0, 0],\n",
    "        [0, 0, 0, 0, 0, 0, 0],\n",
    "        [0, 0, 0, 1, 0, 0, 0],\n",
    "        [0, 0, 0, 1, 0, 0, 0],\n",
    "        [0, -1, -1, 1, -1, 0, 0]\n",
    "    ]),\n",
    "    np.array([\n",
    "        [1, 0, 0, 0, 0, 0, 0],\n",
    "        [0, 0, 0, 0, 0, 0, 0],\n",
    "        [0, 1, 0, 0, 1, 1, 0],\n",
    "        [0, 0, 0, 1, -1, -1, 0],\n",
    "        [0, 0, 1, -1, 1, 0, 0],\n",
    "        [0, 0, 1, -1, 1, 0, 0]\n",
    "    ]),\n",
    "]\n",
    "\n",
    "no_sim = 5000\n",
    "\n",
    "# Iterate through the manual boards\n",
    "for i, board in enumerate(manual_boards, start=1):\n",
    "    best_move = pure_monte(board, player=1)\n",
    "\n",
    "    if best_move is not None:\n",
    "        new_board = result(board, player=1, action=best_move)\n",
    "    else:\n",
    "        print(\"No valid move found.\\n\")\n",
    "\n",
    "#It is running but forgot to run and unable to run at last moment."
   ]
  },
  {
   "cell_type": "markdown",
   "metadata": {
    "id": "qQJTa3IHfiHm"
   },
   "source": [
    "### Best First Move\n",
    "\n",
    "Use Oure Monte Carlo Search to determine what the best first move is? Describe under what assumptions this is the \"best\" first move.  "
   ]
  },
  {
   "cell_type": "code",
   "execution_count": null,
   "metadata": {
    "id": "aob_5HicfiHn"
   },
   "outputs": [],
   "source": [
    "def best_first_move(board, player):\n",
    "    best_m = None\n",
    "    best_val = -np.inf\n",
    "\n",
    "    for act in available_actions(board):\n",
    "        p_value = pure_monte(result(board.copy(), player, act), player)\n",
    "        if best_val < p_value:\n",
    "            best_val = p_value\n",
    "            best_m = act\n",
    "\n",
    "    return best_m\n"
   ]
  },
  {
   "cell_type": "markdown",
   "metadata": {
    "id": "fncEFwjtCczT"
   },
   "source": [
    "In the case of Connect Four, the best first move would be the one that gives the player the highest chance of winning the game. This could vary depending on factors such as the opponent's strategy, the size of the board, and the depth of the search. The Pure Monte Carlo Search algorithm aims to find this optimal move through random simulations.\n",
    "\n",
    "In summary, the \"best\" first move according to Pure Monte Carlo Search is the move that, on average, leads to the highest chance of winning the game based on simulated outcomes."
   ]
  },
  {
   "cell_type": "markdown",
   "metadata": {
    "id": "OKNvrNGqTXBv"
   },
   "source": [
    "Reference:\n",
    "\n",
    "1. Google\n",
    "2. Tic tac toe code\n",
    "3. stack overflow\n",
    "4. A but use of bard"
   ]
  }
 ],
 "metadata": {
  "colab": {
   "provenance": []
  },
  "kernelspec": {
   "display_name": "Python 3",
   "language": "python",
   "name": "python3"
  },
  "language_info": {
   "codemirror_mode": {
    "name": "ipython",
    "version": 3
   },
   "file_extension": ".py",
   "mimetype": "text/x-python",
   "name": "python",
   "nbconvert_exporter": "python",
   "pygments_lexer": "ipython3",
   "version": "3.8.8"
  }
 },
 "nbformat": 4,
 "nbformat_minor": 1
}
